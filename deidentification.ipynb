{
 "cells": [
  {
   "cell_type": "markdown",
   "metadata": {},
   "source": [
    "### Get the example data at: \n",
    "https://doi.org/10.6084/m9.figshare.12646217"
   ]
  },
  {
   "cell_type": "code",
   "execution_count": 6,
   "metadata": {},
   "outputs": [],
   "source": [
    "import devicely\n",
    "import pandas as pd\n",
    "empatica_folder = 'data/Empatica'"
   ]
  },
  {
   "cell_type": "code",
   "execution_count": 7,
   "metadata": {},
   "outputs": [
    {
     "data": {
      "text/plain": [
       "{'bvp': Timestamp('2019-03-01 15:15:01'),\n",
       " 'eda': Timestamp('2019-03-01 15:15:01'),\n",
       " 'hr': Timestamp('2019-03-01 15:15:11'),\n",
       " 'temp': Timestamp('2019-03-01 15:15:01'),\n",
       " 'acc': Timestamp('2019-03-01 15:15:01'),\n",
       " 'ibi': Timestamp('2019-03-01 15:15:01')}"
      ]
     },
     "execution_count": 7,
     "metadata": {},
     "output_type": "execute_result"
    }
   ],
   "source": [
    "empatica_reader = devicely.empatica.EmpaticaReader(empatica_folder)\n",
    "empatica_reader.start_times"
   ]
  },
  {
   "cell_type": "markdown",
   "metadata": {},
   "source": [
    "Shift data to a timestamp:"
   ]
  },
  {
   "cell_type": "code",
   "execution_count": 8,
   "metadata": {},
   "outputs": [
    {
     "data": {
      "text/plain": [
       "{'bvp': Timestamp('2020-10-22 12:09:27.592494'),\n",
       " 'eda': Timestamp('2020-10-22 12:09:27.592494'),\n",
       " 'hr': Timestamp('2020-10-22 12:09:27.592494'),\n",
       " 'temp': Timestamp('2020-10-22 12:09:27.592494'),\n",
       " 'acc': Timestamp('2020-10-22 12:09:27.592494'),\n",
       " 'ibi': Timestamp('2020-10-22 12:09:27.592494')}"
      ]
     },
     "execution_count": 8,
     "metadata": {},
     "output_type": "execute_result"
    }
   ],
   "source": [
    "empatica_reader.timeshift(pd.Timestamp('today'))\n",
    "empatica_reader.start_times"
   ]
  },
  {
   "cell_type": "markdown",
   "metadata": {},
   "source": [
    "Shift data by timedelta:"
   ]
  },
  {
   "cell_type": "code",
   "execution_count": 9,
   "metadata": {},
   "outputs": [
    {
     "data": {
      "text/plain": [
       "{'bvp': Timestamp('2020-10-21 12:09:27.592494'),\n",
       " 'eda': Timestamp('2020-10-21 12:09:27.592494'),\n",
       " 'hr': Timestamp('2020-10-21 12:09:27.592494'),\n",
       " 'temp': Timestamp('2020-10-21 12:09:27.592494'),\n",
       " 'acc': Timestamp('2020-10-21 12:09:27.592494'),\n",
       " 'ibi': Timestamp('2020-10-21 12:09:27.592494')}"
      ]
     },
     "execution_count": 9,
     "metadata": {},
     "output_type": "execute_result"
    }
   ],
   "source": [
    "empatica_reader.timeshift(pd.Timedelta('-1 day'))\n",
    "empatica_reader.start_times"
   ]
  },
  {
   "cell_type": "markdown",
   "metadata": {},
   "source": [
    "Shift data randomly between one month and two years to the past:"
   ]
  },
  {
   "cell_type": "code",
   "execution_count": 11,
   "metadata": {},
   "outputs": [
    {
     "data": {
      "text/plain": [
       "{'bvp': Timestamp('2018-12-01 16:13:59.117834056'),\n",
       " 'eda': Timestamp('2018-12-01 16:13:59.117834056'),\n",
       " 'hr': Timestamp('2018-12-01 16:13:59.117834056'),\n",
       " 'temp': Timestamp('2018-12-01 16:13:59.117834056'),\n",
       " 'acc': Timestamp('2018-12-01 16:13:59.117834056'),\n",
       " 'ibi': Timestamp('2018-12-01 16:13:59.117834056')}"
      ]
     },
     "execution_count": 11,
     "metadata": {},
     "output_type": "execute_result"
    }
   ],
   "source": [
    "empatica_reader.timeshift()\n",
    "empatica_reader.start_times"
   ]
  }
 ],
 "metadata": {
  "kernelspec": {
   "display_name": "Python 3",
   "language": "python",
   "name": "python3"
  },
  "language_info": {
   "codemirror_mode": {
    "name": "ipython",
    "version": 3
   },
   "file_extension": ".py",
   "mimetype": "text/x-python",
   "name": "python",
   "nbconvert_exporter": "python",
   "pygments_lexer": "ipython3",
   "version": "3.8.5"
  }
 },
 "nbformat": 4,
 "nbformat_minor": 4
}
