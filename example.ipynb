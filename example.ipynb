{
 "cells": [
  {
   "cell_type": "markdown",
   "metadata": {},
   "source": [
    "### Get the example data at: \n",
    "https://doi.org/10.6084/m9.figshare.12646217"
   ]
  },
  {
   "cell_type": "code",
   "execution_count": 1,
   "metadata": {},
   "outputs": [],
   "source": [
    "import devicely\n",
    "from datetime import timedelta"
   ]
  },
  {
   "cell_type": "code",
   "execution_count": 2,
   "metadata": {},
   "outputs": [],
   "source": [
    "tag_file = 'data/Tags/tags.csv'\n",
    "empatica_folder = 'data/Empatica'\n",
    "faros_folder = 'data/Faros'\n",
    "everion_folder = 'data/Everion'\n",
    "spacelabs_file = 'data/SpaceLabs/spacelabs.abp'\n",
    "shimmer_file = 'data/Shimmer/shimmer.csv'"
   ]
  },
  {
   "cell_type": "markdown",
   "metadata": {},
   "source": [
    "### Read Tags Data"
   ]
  },
  {
   "cell_type": "code",
   "execution_count": 3,
   "metadata": {},
   "outputs": [
    {
     "data": {
      "text/html": [
       "<div>\n",
       "<style scoped>\n",
       "    .dataframe tbody tr th:only-of-type {\n",
       "        vertical-align: middle;\n",
       "    }\n",
       "\n",
       "    .dataframe tbody tr th {\n",
       "        vertical-align: top;\n",
       "    }\n",
       "\n",
       "    .dataframe thead th {\n",
       "        text-align: right;\n",
       "    }\n",
       "</style>\n",
       "<table border=\"1\" class=\"dataframe\">\n",
       "  <thead>\n",
       "    <tr style=\"text-align: right;\">\n",
       "      <th></th>\n",
       "      <th>tag</th>\n",
       "    </tr>\n",
       "    <tr>\n",
       "      <th>time</th>\n",
       "      <th></th>\n",
       "    </tr>\n",
       "  </thead>\n",
       "  <tbody>\n",
       "    <tr>\n",
       "      <th>2019-03-01 15:16:37</th>\n",
       "      <td>Shake</td>\n",
       "    </tr>\n",
       "    <tr>\n",
       "      <th>2019-03-01 15:17:43</th>\n",
       "      <td>Start</td>\n",
       "    </tr>\n",
       "    <tr>\n",
       "      <th>2019-03-01 15:18:20</th>\n",
       "      <td>BP Measurement</td>\n",
       "    </tr>\n",
       "    <tr>\n",
       "      <th>2019-03-01 15:19:51</th>\n",
       "      <td>BP Measurement</td>\n",
       "    </tr>\n",
       "    <tr>\n",
       "      <th>2019-03-01 15:22:00</th>\n",
       "      <td>BP Measurement</td>\n",
       "    </tr>\n",
       "    <tr>\n",
       "      <th>2019-03-01 15:23:34</th>\n",
       "      <td>BP Measurement</td>\n",
       "    </tr>\n",
       "    <tr>\n",
       "      <th>2019-03-01 15:25:07</th>\n",
       "      <td>BP Measurement</td>\n",
       "    </tr>\n",
       "    <tr>\n",
       "      <th>2019-03-01 15:26:14</th>\n",
       "      <td>Stress Test Start</td>\n",
       "    </tr>\n",
       "    <tr>\n",
       "      <th>2019-03-01 15:31:00</th>\n",
       "      <td>Stress Test End</td>\n",
       "    </tr>\n",
       "    <tr>\n",
       "      <th>2019-03-01 15:31:56</th>\n",
       "      <td>BP Measurement</td>\n",
       "    </tr>\n",
       "    <tr>\n",
       "      <th>2019-03-01 15:33:39</th>\n",
       "      <td>BP Measurement</td>\n",
       "    </tr>\n",
       "    <tr>\n",
       "      <th>2019-03-01 15:35:16</th>\n",
       "      <td>BP Measurement</td>\n",
       "    </tr>\n",
       "    <tr>\n",
       "      <th>2019-03-01 15:37:00</th>\n",
       "      <td>BP Measurement</td>\n",
       "    </tr>\n",
       "    <tr>\n",
       "      <th>2019-03-01 15:38:39</th>\n",
       "      <td>BP Measurement</td>\n",
       "    </tr>\n",
       "    <tr>\n",
       "      <th>2019-03-01 15:38:48</th>\n",
       "      <td>End</td>\n",
       "    </tr>\n",
       "    <tr>\n",
       "      <th>2019-03-01 15:39:32</th>\n",
       "      <td>Shake</td>\n",
       "    </tr>\n",
       "  </tbody>\n",
       "</table>\n",
       "</div>"
      ],
      "text/plain": [
       "                                   tag\n",
       "time                                  \n",
       "2019-03-01 15:16:37              Shake\n",
       "2019-03-01 15:17:43              Start\n",
       "2019-03-01 15:18:20     BP Measurement\n",
       "2019-03-01 15:19:51     BP Measurement\n",
       "2019-03-01 15:22:00     BP Measurement\n",
       "2019-03-01 15:23:34     BP Measurement\n",
       "2019-03-01 15:25:07     BP Measurement\n",
       "2019-03-01 15:26:14  Stress Test Start\n",
       "2019-03-01 15:31:00    Stress Test End\n",
       "2019-03-01 15:31:56     BP Measurement\n",
       "2019-03-01 15:33:39     BP Measurement\n",
       "2019-03-01 15:35:16     BP Measurement\n",
       "2019-03-01 15:37:00     BP Measurement\n",
       "2019-03-01 15:38:39     BP Measurement\n",
       "2019-03-01 15:38:48                End\n",
       "2019-03-01 15:39:32              Shake"
      ]
     },
     "execution_count": 3,
     "metadata": {},
     "output_type": "execute_result"
    }
   ],
   "source": [
    "tags = devicely.TagReader(tag_file, timeshift=1)\n",
    "tags.data"
   ]
  },
  {
   "cell_type": "markdown",
   "metadata": {},
   "source": [
    "### Read Bittium Faros 180 Data"
   ]
  },
  {
   "cell_type": "code",
   "execution_count": 4,
   "metadata": {},
   "outputs": [
    {
     "data": {
      "text/html": [
       "<div>\n",
       "<style scoped>\n",
       "    .dataframe tbody tr th:only-of-type {\n",
       "        vertical-align: middle;\n",
       "    }\n",
       "\n",
       "    .dataframe tbody tr th {\n",
       "        vertical-align: top;\n",
       "    }\n",
       "\n",
       "    .dataframe thead th {\n",
       "        text-align: right;\n",
       "    }\n",
       "</style>\n",
       "<table border=\"1\" class=\"dataframe\">\n",
       "  <thead>\n",
       "    <tr style=\"text-align: right;\">\n",
       "      <th></th>\n",
       "      <th>ECG</th>\n",
       "      <th>HRV</th>\n",
       "      <th>Accelerometer_X</th>\n",
       "      <th>Accelerometer_Y</th>\n",
       "      <th>Accelerometer_Z</th>\n",
       "      <th>acc_mag</th>\n",
       "    </tr>\n",
       "  </thead>\n",
       "  <tbody>\n",
       "    <tr>\n",
       "      <th>2019-03-01 15:12:42.000</th>\n",
       "      <td>26.0</td>\n",
       "      <td>0.0</td>\n",
       "      <td>164.0</td>\n",
       "      <td>23.0</td>\n",
       "      <td>-1172.0</td>\n",
       "      <td>1183.64226</td>\n",
       "    </tr>\n",
       "    <tr>\n",
       "      <th>2019-03-01 15:12:42.001</th>\n",
       "      <td>-6.0</td>\n",
       "      <td>NaN</td>\n",
       "      <td>NaN</td>\n",
       "      <td>NaN</td>\n",
       "      <td>NaN</td>\n",
       "      <td>NaN</td>\n",
       "    </tr>\n",
       "    <tr>\n",
       "      <th>2019-03-01 15:12:42.002</th>\n",
       "      <td>-31.0</td>\n",
       "      <td>NaN</td>\n",
       "      <td>NaN</td>\n",
       "      <td>NaN</td>\n",
       "      <td>NaN</td>\n",
       "      <td>NaN</td>\n",
       "    </tr>\n",
       "    <tr>\n",
       "      <th>2019-03-01 15:12:42.003</th>\n",
       "      <td>-39.0</td>\n",
       "      <td>NaN</td>\n",
       "      <td>NaN</td>\n",
       "      <td>NaN</td>\n",
       "      <td>NaN</td>\n",
       "      <td>NaN</td>\n",
       "    </tr>\n",
       "    <tr>\n",
       "      <th>2019-03-01 15:12:42.004</th>\n",
       "      <td>-17.0</td>\n",
       "      <td>NaN</td>\n",
       "      <td>NaN</td>\n",
       "      <td>NaN</td>\n",
       "      <td>NaN</td>\n",
       "      <td>NaN</td>\n",
       "    </tr>\n",
       "  </tbody>\n",
       "</table>\n",
       "</div>"
      ],
      "text/plain": [
       "                          ECG  HRV  Accelerometer_X  Accelerometer_Y  \\\n",
       "2019-03-01 15:12:42.000  26.0  0.0            164.0             23.0   \n",
       "2019-03-01 15:12:42.001  -6.0  NaN              NaN              NaN   \n",
       "2019-03-01 15:12:42.002 -31.0  NaN              NaN              NaN   \n",
       "2019-03-01 15:12:42.003 -39.0  NaN              NaN              NaN   \n",
       "2019-03-01 15:12:42.004 -17.0  NaN              NaN              NaN   \n",
       "\n",
       "                         Accelerometer_Z     acc_mag  \n",
       "2019-03-01 15:12:42.000          -1172.0  1183.64226  \n",
       "2019-03-01 15:12:42.001              NaN         NaN  \n",
       "2019-03-01 15:12:42.002              NaN         NaN  \n",
       "2019-03-01 15:12:42.003              NaN         NaN  \n",
       "2019-03-01 15:12:42.004              NaN         NaN  "
      ]
     },
     "execution_count": 4,
     "metadata": {},
     "output_type": "execute_result"
    }
   ],
   "source": [
    "faros = devicely.FarosReader(faros_folder, timeshift=1)\n",
    "faros.data.head()"
   ]
  },
  {
   "cell_type": "code",
   "execution_count": 5,
   "metadata": {},
   "outputs": [
    {
     "data": {
      "text/plain": [
       "<matplotlib.axes._subplots.AxesSubplot at 0x7fc6f49e5580>"
      ]
     },
     "execution_count": 5,
     "metadata": {},
     "output_type": "execute_result"
    },
    {
     "data": {
      "image/png": "[encoded data removed]",
      "text/plain": [
       "<Figure size 432x288 with 1 Axes>"
      ]
     },
     "metadata": {
      "needs_background": "light"
     },
     "output_type": "display_data"
    }
   ],
   "source": [
    "faros.data['acc_mag'].interpolate(method=\"time\").plot()"
   ]
  },
  {
   "cell_type": "markdown",
   "metadata": {},
   "source": [
    "### Read Empatica E4 Data"
   ]
  },
  {
   "cell_type": "code",
   "execution_count": 9,
   "metadata": {},
   "outputs": [],
   "source": [
    "empatica = devicely.EmpaticaReader(empatica_folder)"
   ]
  },
  {
   "cell_type": "code",
   "execution_count": 17,
   "metadata": {},
   "outputs": [
    {
     "data": {
      "text/plain": [
       "{'bvp': Timestamp('2019-03-01 15:15:01'),\n",
       " 'eda': Timestamp('2019-03-01 15:15:01'),\n",
       " 'hr': Timestamp('2019-03-01 15:15:11'),\n",
       " 'temp': Timestamp('2019-03-01 15:15:01'),\n",
       " 'acc': Timestamp('2019-03-01 15:15:01'),\n",
       " 'ibi': Timestamp('2019-03-01 15:15:01')}"
      ]
     },
     "execution_count": 17,
     "metadata": {},
     "output_type": "execute_result"
    }
   ],
   "source": [
    "empatica.sample_freqs\n",
    "empatica.start_times"
   ]
  },
  {
   "cell_type": "code",
   "execution_count": 11,
   "metadata": {},
   "outputs": [
    {
     "data": {
      "text/html": [
       "<div>\n",
       "<style scoped>\n",
       "    .dataframe tbody tr th:only-of-type {\n",
       "        vertical-align: middle;\n",
       "    }\n",
       "\n",
       "    .dataframe tbody tr th {\n",
       "        vertical-align: top;\n",
       "    }\n",
       "\n",
       "    .dataframe thead th {\n",
       "        text-align: right;\n",
       "    }\n",
       "</style>\n",
       "<table border=\"1\" class=\"dataframe\">\n",
       "  <thead>\n",
       "    <tr style=\"text-align: right;\">\n",
       "      <th></th>\n",
       "      <th>timedeltas</th>\n",
       "      <th>ibis</th>\n",
       "    </tr>\n",
       "  </thead>\n",
       "  <tbody>\n",
       "    <tr>\n",
       "      <th>0</th>\n",
       "      <td>00:02:25.631666</td>\n",
       "      <td>00:00:00.625090</td>\n",
       "    </tr>\n",
       "    <tr>\n",
       "      <th>1</th>\n",
       "      <td>00:02:26.522332</td>\n",
       "      <td>00:00:00.890666</td>\n",
       "    </tr>\n",
       "    <tr>\n",
       "      <th>2</th>\n",
       "      <td>00:02:31.725695</td>\n",
       "      <td>00:00:01.062548</td>\n",
       "    </tr>\n",
       "    <tr>\n",
       "      <th>3</th>\n",
       "      <td>00:02:32.835121</td>\n",
       "      <td>00:00:01.109426</td>\n",
       "    </tr>\n",
       "    <tr>\n",
       "      <th>4</th>\n",
       "      <td>00:02:33.710161</td>\n",
       "      <td>00:00:00.875040</td>\n",
       "    </tr>\n",
       "  </tbody>\n",
       "</table>\n",
       "</div>"
      ],
      "text/plain": [
       "       timedeltas            ibis\n",
       "0 00:02:25.631666 00:00:00.625090\n",
       "1 00:02:26.522332 00:00:00.890666\n",
       "2 00:02:31.725695 00:00:01.062548\n",
       "3 00:02:32.835121 00:00:01.109426\n",
       "4 00:02:33.710161 00:00:00.875040"
      ]
     },
     "execution_count": 11,
     "metadata": {},
     "output_type": "execute_result"
    }
   ],
   "source": [
    "empatica.ACC\n",
    "empatica.EDA\n",
    "empatica.BVP\n",
    "empatica.HR\n",
    "empatica.TEMP\n",
    "empatica.IBI.head()"
   ]
  },
  {
   "cell_type": "code",
   "execution_count": 12,
   "metadata": {},
   "outputs": [
    {
     "data": {
      "text/html": [
       "<div>\n",
       "<style scoped>\n",
       "    .dataframe tbody tr th:only-of-type {\n",
       "        vertical-align: middle;\n",
       "    }\n",
       "\n",
       "    .dataframe tbody tr th {\n",
       "        vertical-align: top;\n",
       "    }\n",
       "\n",
       "    .dataframe thead th {\n",
       "        text-align: right;\n",
       "    }\n",
       "</style>\n",
       "<table border=\"1\" class=\"dataframe\">\n",
       "  <thead>\n",
       "    <tr style=\"text-align: right;\">\n",
       "      <th></th>\n",
       "      <th>acc_x</th>\n",
       "      <th>acc_y</th>\n",
       "      <th>acc_z</th>\n",
       "      <th>acc_mag</th>\n",
       "      <th>bvp</th>\n",
       "      <th>eda</th>\n",
       "      <th>hr</th>\n",
       "      <th>temp</th>\n",
       "    </tr>\n",
       "  </thead>\n",
       "  <tbody>\n",
       "    <tr>\n",
       "      <th>2019-03-01 15:15:01.000000</th>\n",
       "      <td>-1.0</td>\n",
       "      <td>65.0</td>\n",
       "      <td>5.0</td>\n",
       "      <td>65.199693</td>\n",
       "      <td>-0.0</td>\n",
       "      <td>0.0</td>\n",
       "      <td>NaN</td>\n",
       "      <td>23.75</td>\n",
       "    </tr>\n",
       "    <tr>\n",
       "      <th>2019-03-01 15:15:01.015625</th>\n",
       "      <td>NaN</td>\n",
       "      <td>NaN</td>\n",
       "      <td>NaN</td>\n",
       "      <td>NaN</td>\n",
       "      <td>-0.0</td>\n",
       "      <td>NaN</td>\n",
       "      <td>NaN</td>\n",
       "      <td>NaN</td>\n",
       "    </tr>\n",
       "    <tr>\n",
       "      <th>2019-03-01 15:15:01.031250</th>\n",
       "      <td>-1.0</td>\n",
       "      <td>65.0</td>\n",
       "      <td>5.0</td>\n",
       "      <td>65.199693</td>\n",
       "      <td>-0.0</td>\n",
       "      <td>NaN</td>\n",
       "      <td>NaN</td>\n",
       "      <td>NaN</td>\n",
       "    </tr>\n",
       "    <tr>\n",
       "      <th>2019-03-01 15:15:01.046875</th>\n",
       "      <td>NaN</td>\n",
       "      <td>NaN</td>\n",
       "      <td>NaN</td>\n",
       "      <td>NaN</td>\n",
       "      <td>-0.0</td>\n",
       "      <td>NaN</td>\n",
       "      <td>NaN</td>\n",
       "      <td>NaN</td>\n",
       "    </tr>\n",
       "    <tr>\n",
       "      <th>2019-03-01 15:15:01.062500</th>\n",
       "      <td>-1.0</td>\n",
       "      <td>65.0</td>\n",
       "      <td>4.0</td>\n",
       "      <td>65.130638</td>\n",
       "      <td>-0.0</td>\n",
       "      <td>NaN</td>\n",
       "      <td>NaN</td>\n",
       "      <td>NaN</td>\n",
       "    </tr>\n",
       "  </tbody>\n",
       "</table>\n",
       "</div>"
      ],
      "text/plain": [
       "                            acc_x  acc_y  acc_z    acc_mag  bvp  eda  hr  \\\n",
       "2019-03-01 15:15:01.000000   -1.0   65.0    5.0  65.199693 -0.0  0.0 NaN   \n",
       "2019-03-01 15:15:01.015625    NaN    NaN    NaN        NaN -0.0  NaN NaN   \n",
       "2019-03-01 15:15:01.031250   -1.0   65.0    5.0  65.199693 -0.0  NaN NaN   \n",
       "2019-03-01 15:15:01.046875    NaN    NaN    NaN        NaN -0.0  NaN NaN   \n",
       "2019-03-01 15:15:01.062500   -1.0   65.0    4.0  65.130638 -0.0  NaN NaN   \n",
       "\n",
       "                             temp  \n",
       "2019-03-01 15:15:01.000000  23.75  \n",
       "2019-03-01 15:15:01.015625    NaN  \n",
       "2019-03-01 15:15:01.031250    NaN  \n",
       "2019-03-01 15:15:01.046875    NaN  \n",
       "2019-03-01 15:15:01.062500    NaN  "
      ]
     },
     "execution_count": 12,
     "metadata": {},
     "output_type": "execute_result"
    }
   ],
   "source": [
    "empatica.data.head()"
   ]
  },
  {
   "cell_type": "code",
   "execution_count": 15,
   "metadata": {},
   "outputs": [
    {
     "data": {
      "text/plain": [
       "<matplotlib.axes._subplots.AxesSubplot at 0x7f681be54a90>"
      ]
     },
     "execution_count": 15,
     "metadata": {},
     "output_type": "execute_result"
    },
    {
     "data": {
      "image/png": "[encoded data removed]",
      "text/plain": [
       "<Figure size 432x288 with 1 Axes>"
      ]
     },
     "metadata": {
      "needs_background": "light"
     },
     "output_type": "display_data"
    }
   ],
   "source": [
    "empatica.ACC['acc_mag'].interpolate(method=\"time\").plot()"
   ]
  },
  {
   "cell_type": "markdown",
   "metadata": {},
   "source": [
    "### Read Biovotion Everion Data"
   ]
  },
  {
   "cell_type": "code",
   "execution_count": 8,
   "metadata": {},
   "outputs": [
    {
     "name": "stdout",
     "output_type": "stream",
     "text": [
      "Reading processed and raw data.\n"
     ]
    }
   ],
   "source": [
    "everion = devicely.EverionReader(everion_folder)"
   ]
  },
  {
   "cell_type": "code",
   "execution_count": 9,
   "metadata": {},
   "outputs": [
    {
     "data": {
      "text/html": [
       "<div>\n",
       "<style scoped>\n",
       "    .dataframe tbody tr th:only-of-type {\n",
       "        vertical-align: middle;\n",
       "    }\n",
       "\n",
       "    .dataframe tbody tr th {\n",
       "        vertical-align: top;\n",
       "    }\n",
       "\n",
       "    .dataframe thead th {\n",
       "        text-align: right;\n",
       "    }\n",
       "</style>\n",
       "<table border=\"1\" class=\"dataframe\">\n",
       "  <thead>\n",
       "    <tr style=\"text-align: right;\">\n",
       "      <th></th>\n",
       "      <th>heart_rate</th>\n",
       "      <th>heart_rate_quality</th>\n",
       "      <th>oxygen_saturation</th>\n",
       "      <th>oxygen_saturation_quality</th>\n",
       "      <th>heart_rate_variability</th>\n",
       "      <th>heart_rate_variability_quality</th>\n",
       "      <th>respiration_rate</th>\n",
       "      <th>respiration_rate_quality</th>\n",
       "      <th>ctemp</th>\n",
       "      <th>ctemp_quality</th>\n",
       "      <th>...</th>\n",
       "      <th>led1_data</th>\n",
       "      <th>led2_data</th>\n",
       "      <th>led3_data</th>\n",
       "      <th>led4_data</th>\n",
       "      <th>accx_data</th>\n",
       "      <th>accy_data</th>\n",
       "      <th>accz_data</th>\n",
       "      <th>inter_pulse_interval</th>\n",
       "      <th>inter_pulse_interval_deviation</th>\n",
       "      <th>acc_mag</th>\n",
       "    </tr>\n",
       "    <tr>\n",
       "      <th>time</th>\n",
       "      <th></th>\n",
       "      <th></th>\n",
       "      <th></th>\n",
       "      <th></th>\n",
       "      <th></th>\n",
       "      <th></th>\n",
       "      <th></th>\n",
       "      <th></th>\n",
       "      <th></th>\n",
       "      <th></th>\n",
       "      <th></th>\n",
       "      <th></th>\n",
       "      <th></th>\n",
       "      <th></th>\n",
       "      <th></th>\n",
       "      <th></th>\n",
       "      <th></th>\n",
       "      <th></th>\n",
       "      <th></th>\n",
       "      <th></th>\n",
       "      <th></th>\n",
       "    </tr>\n",
       "  </thead>\n",
       "  <tbody>\n",
       "    <tr>\n",
       "      <th>2019-03-01 13:23:05</th>\n",
       "      <td>NaN</td>\n",
       "      <td>NaN</td>\n",
       "      <td>NaN</td>\n",
       "      <td>NaN</td>\n",
       "      <td>NaN</td>\n",
       "      <td>NaN</td>\n",
       "      <td>NaN</td>\n",
       "      <td>NaN</td>\n",
       "      <td>NaN</td>\n",
       "      <td>NaN</td>\n",
       "      <td>...</td>\n",
       "      <td>3028.0</td>\n",
       "      <td>2989.0</td>\n",
       "      <td>2924.0</td>\n",
       "      <td>3340.0</td>\n",
       "      <td>368.0</td>\n",
       "      <td>2096.0</td>\n",
       "      <td>-3536.0</td>\n",
       "      <td>NaN</td>\n",
       "      <td>NaN</td>\n",
       "      <td>4126.976617</td>\n",
       "    </tr>\n",
       "  </tbody>\n",
       "</table>\n",
       "<p>1 rows × 25 columns</p>\n",
       "</div>"
      ],
      "text/plain": [
       "                     heart_rate  heart_rate_quality  oxygen_saturation  \\\n",
       "time                                                                     \n",
       "2019-03-01 13:23:05         NaN                 NaN                NaN   \n",
       "\n",
       "                     oxygen_saturation_quality  heart_rate_variability  \\\n",
       "time                                                                     \n",
       "2019-03-01 13:23:05                        NaN                     NaN   \n",
       "\n",
       "                     heart_rate_variability_quality  respiration_rate  \\\n",
       "time                                                                    \n",
       "2019-03-01 13:23:05                             NaN               NaN   \n",
       "\n",
       "                     respiration_rate_quality  ctemp  ctemp_quality  ...  \\\n",
       "time                                                                 ...   \n",
       "2019-03-01 13:23:05                       NaN    NaN            NaN  ...   \n",
       "\n",
       "                     led1_data  led2_data  led3_data  led4_data  accx_data  \\\n",
       "time                                                                         \n",
       "2019-03-01 13:23:05     3028.0     2989.0     2924.0     3340.0      368.0   \n",
       "\n",
       "                     accy_data  accz_data  inter_pulse_interval  \\\n",
       "time                                                              \n",
       "2019-03-01 13:23:05     2096.0    -3536.0                   NaN   \n",
       "\n",
       "                     inter_pulse_interval_deviation      acc_mag  \n",
       "time                                                              \n",
       "2019-03-01 13:23:05                             NaN  4126.976617  \n",
       "\n",
       "[1 rows x 25 columns]"
      ]
     },
     "execution_count": 9,
     "metadata": {},
     "output_type": "execute_result"
    }
   ],
   "source": [
    "everion.data.head(1)"
   ]
  },
  {
   "cell_type": "code",
   "execution_count": 10,
   "metadata": {},
   "outputs": [
    {
     "data": {
      "text/plain": [
       "<matplotlib.axes._subplots.AxesSubplot at 0x7fc6e8f18520>"
      ]
     },
     "execution_count": 10,
     "metadata": {},
     "output_type": "execute_result"
    },
    {
     "data": {
      "image/png": "[encoded data removed]",
      "text/plain": [
       "<Figure size 432x288 with 1 Axes>"
      ]
     },
     "metadata": {
      "needs_background": "light"
     },
     "output_type": "display_data"
    }
   ],
   "source": [
    "everion.data['heart_rate'].plot(style='.')"
   ]
  },
  {
   "cell_type": "markdown",
   "metadata": {},
   "source": [
    "### Read Spacelabs"
   ]
  },
  {
   "cell_type": "code",
   "execution_count": 11,
   "metadata": {},
   "outputs": [
    {
     "data": {
      "text/html": [
       "<div>\n",
       "<style scoped>\n",
       "    .dataframe tbody tr th:only-of-type {\n",
       "        vertical-align: middle;\n",
       "    }\n",
       "\n",
       "    .dataframe tbody tr th {\n",
       "        vertical-align: top;\n",
       "    }\n",
       "\n",
       "    .dataframe thead th {\n",
       "        text-align: right;\n",
       "    }\n",
       "</style>\n",
       "<table border=\"1\" class=\"dataframe\">\n",
       "  <thead>\n",
       "    <tr style=\"text-align: right;\">\n",
       "      <th></th>\n",
       "      <th>date</th>\n",
       "      <th>time</th>\n",
       "      <th>subject</th>\n",
       "      <th>SYS(mmHg)</th>\n",
       "      <th>DIA(mmHg)</th>\n",
       "      <th>x</th>\n",
       "      <th>y</th>\n",
       "      <th>z</th>\n",
       "      <th>error</th>\n",
       "      <th>stress_test</th>\n",
       "    </tr>\n",
       "    <tr>\n",
       "      <th>datetime</th>\n",
       "      <th></th>\n",
       "      <th></th>\n",
       "      <th></th>\n",
       "      <th></th>\n",
       "      <th></th>\n",
       "      <th></th>\n",
       "      <th></th>\n",
       "      <th></th>\n",
       "      <th></th>\n",
       "      <th></th>\n",
       "    </tr>\n",
       "  </thead>\n",
       "  <tbody>\n",
       "    <tr>\n",
       "      <th>2019-03-01 15:18:00</th>\n",
       "      <td>2019-03-01</td>\n",
       "      <td>16:18:00</td>\n",
       "      <td>001V0</td>\n",
       "      <td>107</td>\n",
       "      <td>76</td>\n",
       "      <td>78.0</td>\n",
       "      <td>78.0</td>\n",
       "      <td>NaN</td>\n",
       "      <td>NaN</td>\n",
       "      <td>NaN</td>\n",
       "    </tr>\n",
       "    <tr>\n",
       "      <th>2019-03-01 15:19:00</th>\n",
       "      <td>2019-03-01</td>\n",
       "      <td>16:19:00</td>\n",
       "      <td>001V0</td>\n",
       "      <td>96</td>\n",
       "      <td>62</td>\n",
       "      <td>63.0</td>\n",
       "      <td>63.0</td>\n",
       "      <td>NaN</td>\n",
       "      <td>NaN</td>\n",
       "      <td>NaN</td>\n",
       "    </tr>\n",
       "    <tr>\n",
       "      <th>2019-03-01 15:22:00</th>\n",
       "      <td>2019-03-01</td>\n",
       "      <td>16:22:00</td>\n",
       "      <td>001V0</td>\n",
       "      <td>100</td>\n",
       "      <td>68</td>\n",
       "      <td>64.0</td>\n",
       "      <td>64.0</td>\n",
       "      <td>NaN</td>\n",
       "      <td>NaN</td>\n",
       "      <td>NaN</td>\n",
       "    </tr>\n",
       "    <tr>\n",
       "      <th>2019-03-01 15:23:00</th>\n",
       "      <td>2019-03-01</td>\n",
       "      <td>16:23:00</td>\n",
       "      <td>001V0</td>\n",
       "      <td>103</td>\n",
       "      <td>68</td>\n",
       "      <td>68.0</td>\n",
       "      <td>68.0</td>\n",
       "      <td>NaN</td>\n",
       "      <td>NaN</td>\n",
       "      <td>NaN</td>\n",
       "    </tr>\n",
       "    <tr>\n",
       "      <th>2019-03-01 15:25:00</th>\n",
       "      <td>2019-03-01</td>\n",
       "      <td>16:25:00</td>\n",
       "      <td>001V0</td>\n",
       "      <td>101</td>\n",
       "      <td>67</td>\n",
       "      <td>65.0</td>\n",
       "      <td>65.0</td>\n",
       "      <td>NaN</td>\n",
       "      <td>NaN</td>\n",
       "      <td>NaN</td>\n",
       "    </tr>\n",
       "  </tbody>\n",
       "</table>\n",
       "</div>"
      ],
      "text/plain": [
       "                           date      time subject  SYS(mmHg)  DIA(mmHg)     x  \\\n",
       "datetime                                                                        \n",
       "2019-03-01 15:18:00  2019-03-01  16:18:00   001V0        107         76  78.0   \n",
       "2019-03-01 15:19:00  2019-03-01  16:19:00   001V0         96         62  63.0   \n",
       "2019-03-01 15:22:00  2019-03-01  16:22:00   001V0        100         68  64.0   \n",
       "2019-03-01 15:23:00  2019-03-01  16:23:00   001V0        103         68  68.0   \n",
       "2019-03-01 15:25:00  2019-03-01  16:25:00   001V0        101         67  65.0   \n",
       "\n",
       "                        y   z error  stress_test  \n",
       "datetime                                          \n",
       "2019-03-01 15:18:00  78.0 NaN   NaN          NaN  \n",
       "2019-03-01 15:19:00  63.0 NaN   NaN          NaN  \n",
       "2019-03-01 15:22:00  64.0 NaN   NaN          NaN  \n",
       "2019-03-01 15:23:00  68.0 NaN   NaN          NaN  \n",
       "2019-03-01 15:25:00  65.0 NaN   NaN          NaN  "
      ]
     },
     "execution_count": 11,
     "metadata": {},
     "output_type": "execute_result"
    }
   ],
   "source": [
    "spacelabs = devicely.SpacelabsReader(spacelabs_file, timeshift=1)\n",
    "spacelabs.data.head()"
   ]
  },
  {
   "cell_type": "code",
   "execution_count": 12,
   "metadata": {},
   "outputs": [
    {
     "data": {
      "text/plain": [
       "<matplotlib.axes._subplots.AxesSubplot at 0x7fc6e8729820>"
      ]
     },
     "execution_count": 12,
     "metadata": {},
     "output_type": "execute_result"
    },
    {
     "data": {
      "image/png": "[encoded data removed]",
      "text/plain": [
       "<Figure size 432x288 with 1 Axes>"
      ]
     },
     "metadata": {
      "needs_background": "light"
     },
     "output_type": "display_data"
    }
   ],
   "source": [
    "spacelabs.data.plot.scatter('DIA(mmHg)', 'SYS(mmHg)')"
   ]
  },
  {
   "cell_type": "code",
   "execution_count": 13,
   "metadata": {},
   "outputs": [],
   "source": [
    "spacelabs.set_window(timedelta(seconds=30), 'bfill')"
   ]
  },
  {
   "cell_type": "code",
   "execution_count": 14,
   "metadata": {},
   "outputs": [
    {
     "data": {
      "text/html": [
       "<div>\n",
       "<style scoped>\n",
       "    .dataframe tbody tr th:only-of-type {\n",
       "        vertical-align: middle;\n",
       "    }\n",
       "\n",
       "    .dataframe tbody tr th {\n",
       "        vertical-align: top;\n",
       "    }\n",
       "\n",
       "    .dataframe thead th {\n",
       "        text-align: right;\n",
       "    }\n",
       "</style>\n",
       "<table border=\"1\" class=\"dataframe\">\n",
       "  <thead>\n",
       "    <tr style=\"text-align: right;\">\n",
       "      <th></th>\n",
       "      <th>date</th>\n",
       "      <th>time</th>\n",
       "      <th>subject</th>\n",
       "      <th>SYS(mmHg)</th>\n",
       "      <th>DIA(mmHg)</th>\n",
       "      <th>x</th>\n",
       "      <th>y</th>\n",
       "      <th>z</th>\n",
       "      <th>error</th>\n",
       "      <th>stress_test</th>\n",
       "      <th>window_start</th>\n",
       "      <th>window_end</th>\n",
       "    </tr>\n",
       "    <tr>\n",
       "      <th>datetime</th>\n",
       "      <th></th>\n",
       "      <th></th>\n",
       "      <th></th>\n",
       "      <th></th>\n",
       "      <th></th>\n",
       "      <th></th>\n",
       "      <th></th>\n",
       "      <th></th>\n",
       "      <th></th>\n",
       "      <th></th>\n",
       "      <th></th>\n",
       "      <th></th>\n",
       "    </tr>\n",
       "  </thead>\n",
       "  <tbody>\n",
       "    <tr>\n",
       "      <th>2019-03-01 15:18:00</th>\n",
       "      <td>2019-03-01</td>\n",
       "      <td>16:18:00</td>\n",
       "      <td>001V0</td>\n",
       "      <td>107</td>\n",
       "      <td>76</td>\n",
       "      <td>78.0</td>\n",
       "      <td>78.0</td>\n",
       "      <td>NaN</td>\n",
       "      <td>NaN</td>\n",
       "      <td>NaN</td>\n",
       "      <td>2019-03-01 15:17:30</td>\n",
       "      <td>2019-03-01 15:18:00</td>\n",
       "    </tr>\n",
       "  </tbody>\n",
       "</table>\n",
       "</div>"
      ],
      "text/plain": [
       "                           date      time subject  SYS(mmHg)  DIA(mmHg)     x  \\\n",
       "datetime                                                                        \n",
       "2019-03-01 15:18:00  2019-03-01  16:18:00   001V0        107         76  78.0   \n",
       "\n",
       "                        y   z error  stress_test        window_start  \\\n",
       "datetime                                                               \n",
       "2019-03-01 15:18:00  78.0 NaN   NaN          NaN 2019-03-01 15:17:30   \n",
       "\n",
       "                             window_end  \n",
       "datetime                                 \n",
       "2019-03-01 15:18:00 2019-03-01 15:18:00  "
      ]
     },
     "execution_count": 14,
     "metadata": {},
     "output_type": "execute_result"
    }
   ],
   "source": [
    "spacelabs.data.head(1)"
   ]
  },
  {
   "cell_type": "markdown",
   "metadata": {},
   "source": [
    "### Read Shimmer Consensys GSR (Shimmer3 GSR Development Kit)"
   ]
  },
  {
   "cell_type": "code",
   "execution_count": 15,
   "metadata": {},
   "outputs": [],
   "source": [
    "shimmer_plus = devicely.ShimmerPlusReader(shimmer_file, delimiter=';', timeshift=1)"
   ]
  },
  {
   "cell_type": "code",
   "execution_count": 16,
   "metadata": {},
   "outputs": [
    {
     "data": {
      "text/html": [
       "<div>\n",
       "<style scoped>\n",
       "    .dataframe tbody tr th:only-of-type {\n",
       "        vertical-align: middle;\n",
       "    }\n",
       "\n",
       "    .dataframe tbody tr th {\n",
       "        vertical-align: top;\n",
       "    }\n",
       "\n",
       "    .dataframe thead th {\n",
       "        text-align: right;\n",
       "    }\n",
       "</style>\n",
       "<table border=\"1\" class=\"dataframe\">\n",
       "  <thead>\n",
       "    <tr style=\"text-align: right;\">\n",
       "      <th></th>\n",
       "      <th>Shimmer_40AC_Timestamp_Unix_CAL</th>\n",
       "      <th>Shimmer_40AC_Accel_LN_X_CAL</th>\n",
       "      <th>Shimmer_40AC_Accel_LN_Y_CAL</th>\n",
       "      <th>Shimmer_40AC_Accel_LN_Z_CAL</th>\n",
       "      <th>Shimmer_40AC_Accel_WR_X_CAL</th>\n",
       "      <th>Shimmer_40AC_Accel_WR_Y_CAL</th>\n",
       "      <th>Shimmer_40AC_Accel_WR_Z_CAL</th>\n",
       "      <th>Shimmer_40AC_Battery_CAL</th>\n",
       "      <th>Shimmer_40AC_Ext_Exp_A15_CAL</th>\n",
       "      <th>Shimmer_40AC_GSR_Range_CAL</th>\n",
       "      <th>...</th>\n",
       "      <th>Shimmer_40AC_Gyro_X_CAL</th>\n",
       "      <th>Shimmer_40AC_Gyro_Y_CAL</th>\n",
       "      <th>Shimmer_40AC_Gyro_Z_CAL</th>\n",
       "      <th>Shimmer_40AC_Int_Exp_A12_CAL</th>\n",
       "      <th>Shimmer_40AC_Mag_X_CAL</th>\n",
       "      <th>Shimmer_40AC_Mag_Y_CAL</th>\n",
       "      <th>Shimmer_40AC_Mag_Z_CAL</th>\n",
       "      <th>Shimmer_40AC_Pressure_BMP280_CAL</th>\n",
       "      <th>Shimmer_40AC_Temperature_BMP280_CAL</th>\n",
       "      <th>acc_mag</th>\n",
       "    </tr>\n",
       "    <tr>\n",
       "      <th>time</th>\n",
       "      <th></th>\n",
       "      <th></th>\n",
       "      <th></th>\n",
       "      <th></th>\n",
       "      <th></th>\n",
       "      <th></th>\n",
       "      <th></th>\n",
       "      <th></th>\n",
       "      <th></th>\n",
       "      <th></th>\n",
       "      <th></th>\n",
       "      <th></th>\n",
       "      <th></th>\n",
       "      <th></th>\n",
       "      <th></th>\n",
       "      <th></th>\n",
       "      <th></th>\n",
       "      <th></th>\n",
       "      <th></th>\n",
       "      <th></th>\n",
       "      <th></th>\n",
       "    </tr>\n",
       "  </thead>\n",
       "  <tbody>\n",
       "    <tr>\n",
       "      <th>2020-07-28 11:56:50.034</th>\n",
       "      <td>1.595933810034E12</td>\n",
       "      <td>-1.434782608695652</td>\n",
       "      <td>10.0</td>\n",
       "      <td>0.5543478260869565</td>\n",
       "      <td>-3.9305804907241173</td>\n",
       "      <td>8.42130460801915</td>\n",
       "      <td>-1.620586475164572</td>\n",
       "      <td>4139.194139194139</td>\n",
       "      <td>1684.9816849816848</td>\n",
       "      <td>2.0</td>\n",
       "      <td>...</td>\n",
       "      <td>0.13740458015267176</td>\n",
       "      <td>1.8778625954198473</td>\n",
       "      <td>-0.183206106870229</td>\n",
       "      <td>1680.5860805860805</td>\n",
       "      <td>-0.11244377811094453</td>\n",
       "      <td>-0.9160419790104948</td>\n",
       "      <td>-0.047976011994003</td>\n",
       "      <td>100.43537920858897</td>\n",
       "      <td>33.365877509029815</td>\n",
       "      <td>10.117604</td>\n",
       "    </tr>\n",
       "  </tbody>\n",
       "</table>\n",
       "<p>1 rows × 22 columns</p>\n",
       "</div>"
      ],
      "text/plain": [
       "                        Shimmer_40AC_Timestamp_Unix_CAL  \\\n",
       "time                                                      \n",
       "2020-07-28 11:56:50.034               1.595933810034E12   \n",
       "\n",
       "                        Shimmer_40AC_Accel_LN_X_CAL  \\\n",
       "time                                                  \n",
       "2020-07-28 11:56:50.034          -1.434782608695652   \n",
       "\n",
       "                        Shimmer_40AC_Accel_LN_Y_CAL  \\\n",
       "time                                                  \n",
       "2020-07-28 11:56:50.034                        10.0   \n",
       "\n",
       "                        Shimmer_40AC_Accel_LN_Z_CAL  \\\n",
       "time                                                  \n",
       "2020-07-28 11:56:50.034          0.5543478260869565   \n",
       "\n",
       "                        Shimmer_40AC_Accel_WR_X_CAL  \\\n",
       "time                                                  \n",
       "2020-07-28 11:56:50.034         -3.9305804907241173   \n",
       "\n",
       "                        Shimmer_40AC_Accel_WR_Y_CAL  \\\n",
       "time                                                  \n",
       "2020-07-28 11:56:50.034            8.42130460801915   \n",
       "\n",
       "                        Shimmer_40AC_Accel_WR_Z_CAL Shimmer_40AC_Battery_CAL  \\\n",
       "time                                                                           \n",
       "2020-07-28 11:56:50.034          -1.620586475164572        4139.194139194139   \n",
       "\n",
       "                        Shimmer_40AC_Ext_Exp_A15_CAL  \\\n",
       "time                                                   \n",
       "2020-07-28 11:56:50.034           1684.9816849816848   \n",
       "\n",
       "                        Shimmer_40AC_GSR_Range_CAL  ...  \\\n",
       "time                                                ...   \n",
       "2020-07-28 11:56:50.034                        2.0  ...   \n",
       "\n",
       "                        Shimmer_40AC_Gyro_X_CAL Shimmer_40AC_Gyro_Y_CAL  \\\n",
       "time                                                                      \n",
       "2020-07-28 11:56:50.034     0.13740458015267176      1.8778625954198473   \n",
       "\n",
       "                        Shimmer_40AC_Gyro_Z_CAL Shimmer_40AC_Int_Exp_A12_CAL  \\\n",
       "time                                                                           \n",
       "2020-07-28 11:56:50.034      -0.183206106870229           1680.5860805860805   \n",
       "\n",
       "                        Shimmer_40AC_Mag_X_CAL Shimmer_40AC_Mag_Y_CAL  \\\n",
       "time                                                                    \n",
       "2020-07-28 11:56:50.034   -0.11244377811094453    -0.9160419790104948   \n",
       "\n",
       "                        Shimmer_40AC_Mag_Z_CAL  \\\n",
       "time                                             \n",
       "2020-07-28 11:56:50.034     -0.047976011994003   \n",
       "\n",
       "                        Shimmer_40AC_Pressure_BMP280_CAL  \\\n",
       "time                                                       \n",
       "2020-07-28 11:56:50.034               100.43537920858897   \n",
       "\n",
       "                        Shimmer_40AC_Temperature_BMP280_CAL    acc_mag  \n",
       "time                                                                    \n",
       "2020-07-28 11:56:50.034                  33.365877509029815  10.117604  \n",
       "\n",
       "[1 rows x 22 columns]"
      ]
     },
     "execution_count": 16,
     "metadata": {},
     "output_type": "execute_result"
    }
   ],
   "source": [
    "shimmer_plus.data.head(1)"
   ]
  },
  {
   "cell_type": "code",
   "execution_count": 17,
   "metadata": {},
   "outputs": [
    {
     "data": {
      "text/plain": [
       "<matplotlib.axes._subplots.AxesSubplot at 0x7fc6e86d90d0>"
      ]
     },
     "execution_count": 17,
     "metadata": {},
     "output_type": "execute_result"
    },
    {
     "data": {
      "image/png": "[encoded data removed]",
      "text/plain": [
       "<Figure size 432x288 with 1 Axes>"
      ]
     },
     "metadata": {
      "needs_background": "light"
     },
     "output_type": "display_data"
    }
   ],
   "source": [
    "shimmer_plus.data['acc_mag'].interpolate(method=\"time\").plot()"
   ]
  },
  {
   "cell_type": "code",
   "execution_count": null,
   "metadata": {},
   "outputs": [],
   "source": []
  },
  {
   "cell_type": "code",
   "execution_count": null,
   "metadata": {},
   "outputs": [],
   "source": []
  },
  {
   "cell_type": "code",
   "execution_count": null,
   "metadata": {},
   "outputs": [],
   "source": []
  },
  {
   "cell_type": "code",
   "execution_count": null,
   "metadata": {},
   "outputs": [],
   "source": []
  },
  {
   "cell_type": "code",
   "execution_count": null,
   "metadata": {},
   "outputs": [],
   "source": []
  },
  {
   "cell_type": "code",
   "execution_count": null,
   "metadata": {},
   "outputs": [],
   "source": []
  },
  {
   "cell_type": "code",
   "execution_count": null,
   "metadata": {},
   "outputs": [],
   "source": []
  }
 ],
 "metadata": {
  "kernelspec": {
   "display_name": "Python 3",
   "language": "python",
   "name": "python3"
  },
  "language_info": {
   "codemirror_mode": {
    "name": "ipython",
    "version": 3
   },
   "file_extension": ".py",
   "mimetype": "text/x-python",
   "name": "python",
   "nbconvert_exporter": "python",
   "pygments_lexer": "ipython3",
   "version": "3.8.5"
  }
 },
 "nbformat": 4,
 "nbformat_minor": 4
}
