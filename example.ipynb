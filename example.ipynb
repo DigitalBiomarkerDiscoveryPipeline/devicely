{
 "cells": [
  {
   "cell_type": "markdown",
   "metadata": {},
   "source": [
    "### Get the example data at: \n",
    "https://doi.org/10.6084/m9.figshare.12646217"
   ]
  },
  {
   "cell_type": "code",
   "execution_count": 7,
   "metadata": {},
   "outputs": [],
   "source": [
    "import devicely\n",
    "from datetime import timedelta"
   ]
  },
  {
   "cell_type": "code",
   "execution_count": 8,
   "metadata": {},
   "outputs": [],
   "source": [
    "tag_file = 'data/Tags/tags.csv'\n",
    "empatica_folder = 'data/Empatica'\n",
    "faros_folder = 'data/Faros'\n",
    "everion_folder = 'data/Everion'\n",
    "spacelabs_file = 'data/SpaceLabs/spacelabs.abp'"
   ]
  },
  {
   "cell_type": "markdown",
   "metadata": {},
   "source": [
    "### Read Tags Data"
   ]
  },
  {
   "cell_type": "code",
   "execution_count": 9,
   "metadata": {},
   "outputs": [
    {
     "data": {
      "text/html": [
       "<div>\n",
       "<style scoped>\n",
       "    .dataframe tbody tr th:only-of-type {\n",
       "        vertical-align: middle;\n",
       "    }\n",
       "\n",
       "    .dataframe tbody tr th {\n",
       "        vertical-align: top;\n",
       "    }\n",
       "\n",
       "    .dataframe thead th {\n",
       "        text-align: right;\n",
       "    }\n",
       "</style>\n",
       "<table border=\"1\" class=\"dataframe\">\n",
       "  <thead>\n",
       "    <tr style=\"text-align: right;\">\n",
       "      <th></th>\n",
       "      <th>tag</th>\n",
       "    </tr>\n",
       "    <tr>\n",
       "      <th>time</th>\n",
       "      <th></th>\n",
       "    </tr>\n",
       "  </thead>\n",
       "  <tbody>\n",
       "    <tr>\n",
       "      <td>2019-03-01 15:16:37</td>\n",
       "      <td>Shake</td>\n",
       "    </tr>\n",
       "    <tr>\n",
       "      <td>2019-03-01 15:17:43</td>\n",
       "      <td>Start</td>\n",
       "    </tr>\n",
       "    <tr>\n",
       "      <td>2019-03-01 15:18:20</td>\n",
       "      <td>BP Measurement</td>\n",
       "    </tr>\n",
       "    <tr>\n",
       "      <td>2019-03-01 15:19:51</td>\n",
       "      <td>BP Measurement</td>\n",
       "    </tr>\n",
       "    <tr>\n",
       "      <td>2019-03-01 15:22:00</td>\n",
       "      <td>BP Measurement</td>\n",
       "    </tr>\n",
       "    <tr>\n",
       "      <td>2019-03-01 15:23:34</td>\n",
       "      <td>BP Measurement</td>\n",
       "    </tr>\n",
       "    <tr>\n",
       "      <td>2019-03-01 15:25:07</td>\n",
       "      <td>BP Measurement</td>\n",
       "    </tr>\n",
       "    <tr>\n",
       "      <td>2019-03-01 15:26:14</td>\n",
       "      <td>Stress Test Start</td>\n",
       "    </tr>\n",
       "    <tr>\n",
       "      <td>2019-03-01 15:31:00</td>\n",
       "      <td>Stress Test End</td>\n",
       "    </tr>\n",
       "    <tr>\n",
       "      <td>2019-03-01 15:31:56</td>\n",
       "      <td>BP Measurement</td>\n",
       "    </tr>\n",
       "    <tr>\n",
       "      <td>2019-03-01 15:33:39</td>\n",
       "      <td>BP Measurement</td>\n",
       "    </tr>\n",
       "    <tr>\n",
       "      <td>2019-03-01 15:35:16</td>\n",
       "      <td>BP Measurement</td>\n",
       "    </tr>\n",
       "    <tr>\n",
       "      <td>2019-03-01 15:37:00</td>\n",
       "      <td>BP Measurement</td>\n",
       "    </tr>\n",
       "    <tr>\n",
       "      <td>2019-03-01 15:38:39</td>\n",
       "      <td>BP Measurement</td>\n",
       "    </tr>\n",
       "    <tr>\n",
       "      <td>2019-03-01 15:38:48</td>\n",
       "      <td>End</td>\n",
       "    </tr>\n",
       "    <tr>\n",
       "      <td>2019-03-01 15:39:32</td>\n",
       "      <td>Shake</td>\n",
       "    </tr>\n",
       "  </tbody>\n",
       "</table>\n",
       "</div>"
      ],
      "text/plain": [
       "                                   tag\n",
       "time                                  \n",
       "2019-03-01 15:16:37              Shake\n",
       "2019-03-01 15:17:43              Start\n",
       "2019-03-01 15:18:20     BP Measurement\n",
       "2019-03-01 15:19:51     BP Measurement\n",
       "2019-03-01 15:22:00     BP Measurement\n",
       "2019-03-01 15:23:34     BP Measurement\n",
       "2019-03-01 15:25:07     BP Measurement\n",
       "2019-03-01 15:26:14  Stress Test Start\n",
       "2019-03-01 15:31:00    Stress Test End\n",
       "2019-03-01 15:31:56     BP Measurement\n",
       "2019-03-01 15:33:39     BP Measurement\n",
       "2019-03-01 15:35:16     BP Measurement\n",
       "2019-03-01 15:37:00     BP Measurement\n",
       "2019-03-01 15:38:39     BP Measurement\n",
       "2019-03-01 15:38:48                End\n",
       "2019-03-01 15:39:32              Shake"
      ]
     },
     "execution_count": 9,
     "metadata": {},
     "output_type": "execute_result"
    }
   ],
   "source": [
    "tags = devicely.TagReader(tag_file, timeshift=1)\n",
    "tags.data"
   ]
  },
  {
   "cell_type": "markdown",
   "metadata": {},
   "source": [
    "### Read Bittium Faros 180 Data"
   ]
  },
  {
   "cell_type": "code",
   "execution_count": null,
   "metadata": {},
   "outputs": [],
   "source": [
    "faros = devicely.FarosReader(faros_folder, timeshift=1)\n",
    "faros.data.head()"
   ]
  },
  {
   "cell_type": "code",
   "execution_count": null,
   "metadata": {},
   "outputs": [],
   "source": [
    "faros.data['acc_mag'].interpolate(method=\"time\").plot()"
   ]
  },
  {
   "cell_type": "markdown",
   "metadata": {},
   "source": [
    "### Read Empatica E4 Data"
   ]
  },
  {
   "cell_type": "code",
   "execution_count": null,
   "metadata": {},
   "outputs": [],
   "source": [
    "empatica = devicely.EmpaticaReader(empatica_folder)\n",
    "empatica.data.head()"
   ]
  },
  {
   "cell_type": "code",
   "execution_count": null,
   "metadata": {},
   "outputs": [],
   "source": [
    "empatica.data['acc_mag'].interpolate(method=\"time\").plot()"
   ]
  },
  {
   "cell_type": "markdown",
   "metadata": {},
   "source": [
    "### Read Biovotion Everion Data"
   ]
  },
  {
   "cell_type": "code",
   "execution_count": null,
   "metadata": {},
   "outputs": [],
   "source": [
    "everion = devicely.EverionReader(everion_folder, raw=True)"
   ]
  },
  {
   "cell_type": "code",
   "execution_count": null,
   "metadata": {},
   "outputs": [],
   "source": [
    "# Subsetting\n",
    "everion_subset = everion.data.loc['2019-03-01 15:15:01.000000':'2019-03-01 15:45:01.000000']\n",
    "everion_subset.head()"
   ]
  },
  {
   "cell_type": "code",
   "execution_count": null,
   "metadata": {},
   "outputs": [],
   "source": [
    "everion_subset['acc_mag'].interpolate(method=\"time\").plot()"
   ]
  },
  {
   "cell_type": "markdown",
   "metadata": {},
   "source": [
    "### Read Spacelabs"
   ]
  },
  {
   "cell_type": "code",
   "execution_count": null,
   "metadata": {},
   "outputs": [],
   "source": [
    "spacelabs = devicely.SpacelabsReader(spacelabs_file, timeshift=1)\n",
    "spacelabs.data.head()"
   ]
  },
  {
   "cell_type": "code",
   "execution_count": null,
   "metadata": {},
   "outputs": [],
   "source": [
    "spacelabs.data.plot.scatter('DIA(mmHg)', 'SYS(mmHg)')"
   ]
  },
  {
   "cell_type": "code",
   "execution_count": null,
   "metadata": {},
   "outputs": [],
   "source": [
    "spacelabs.set_window(timedelta(seconds=30), 'bfill')"
   ]
  },
  {
   "cell_type": "code",
   "execution_count": null,
   "metadata": {},
   "outputs": [],
   "source": [
    "spacelabs.data.head(1)"
   ]
  }
 ],
 "metadata": {
  "kernelspec": {
   "display_name": "Python 3.7.4 64-bit ('base': conda)",
   "language": "python",
   "name": "python37464bitbasecondadc06b157c545453bb8db4160726ba315"
  },
  "language_info": {
   "codemirror_mode": {
    "name": "ipython",
    "version": 3
   },
   "file_extension": ".py",
   "mimetype": "text/x-python",
   "name": "python",
   "nbconvert_exporter": "python",
   "pygments_lexer": "ipython3",
   "version": "3.7.4"
  }
 },
 "nbformat": 4,
 "nbformat_minor": 4
}
